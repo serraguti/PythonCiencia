{
 "cells": [
  {
   "cell_type": "code",
   "execution_count": 2,
   "metadata": {},
   "outputs": [],
   "source": [
    "import pandas as pd"
   ]
  },
  {
   "cell_type": "code",
   "execution_count": 3,
   "metadata": {},
   "outputs": [
    {
     "data": {
      "text/html": [
       "<div>\n",
       "<style scoped>\n",
       "    .dataframe tbody tr th:only-of-type {\n",
       "        vertical-align: middle;\n",
       "    }\n",
       "\n",
       "    .dataframe tbody tr th {\n",
       "        vertical-align: top;\n",
       "    }\n",
       "\n",
       "    .dataframe thead th {\n",
       "        text-align: right;\n",
       "    }\n",
       "</style>\n",
       "<table border=\"1\" class=\"dataframe\">\n",
       "  <thead>\n",
       "    <tr style=\"text-align: right;\">\n",
       "      <th></th>\n",
       "      <th>name</th>\n",
       "      <th>allegiance</th>\n",
       "      <th>season</th>\n",
       "      <th>episode</th>\n",
       "      <th>location</th>\n",
       "      <th>killer</th>\n",
       "      <th>killers_house</th>\n",
       "      <th>method</th>\n",
       "      <th>death_no</th>\n",
       "    </tr>\n",
       "  </thead>\n",
       "  <tbody>\n",
       "    <tr>\n",
       "      <th>0</th>\n",
       "      <td>Waymar Royce</td>\n",
       "      <td>Night's Watch</td>\n",
       "      <td>1</td>\n",
       "      <td>1</td>\n",
       "      <td>Beyond the Wall</td>\n",
       "      <td>White Walker</td>\n",
       "      <td>NaN</td>\n",
       "      <td>Ice sword</td>\n",
       "      <td>1</td>\n",
       "    </tr>\n",
       "    <tr>\n",
       "      <th>1</th>\n",
       "      <td>Gared</td>\n",
       "      <td>Night's Watch</td>\n",
       "      <td>1</td>\n",
       "      <td>1</td>\n",
       "      <td>Beyond the Wall</td>\n",
       "      <td>White Walker</td>\n",
       "      <td>NaN</td>\n",
       "      <td>Ice sword</td>\n",
       "      <td>2</td>\n",
       "    </tr>\n",
       "    <tr>\n",
       "      <th>2</th>\n",
       "      <td>Will</td>\n",
       "      <td>Night's Watch</td>\n",
       "      <td>1</td>\n",
       "      <td>1</td>\n",
       "      <td>Winterfell</td>\n",
       "      <td>Ned Stark</td>\n",
       "      <td>House Stark</td>\n",
       "      <td>Sword</td>\n",
       "      <td>3</td>\n",
       "    </tr>\n",
       "    <tr>\n",
       "      <th>3</th>\n",
       "      <td>Stag</td>\n",
       "      <td>NaN</td>\n",
       "      <td>1</td>\n",
       "      <td>1</td>\n",
       "      <td>Winterfell</td>\n",
       "      <td>Direwolf</td>\n",
       "      <td>NaN</td>\n",
       "      <td>Teeth</td>\n",
       "      <td>4</td>\n",
       "    </tr>\n",
       "    <tr>\n",
       "      <th>4</th>\n",
       "      <td>Direwolf</td>\n",
       "      <td>NaN</td>\n",
       "      <td>1</td>\n",
       "      <td>1</td>\n",
       "      <td>Winterfell</td>\n",
       "      <td>Stag</td>\n",
       "      <td>NaN</td>\n",
       "      <td>Antler</td>\n",
       "      <td>5</td>\n",
       "    </tr>\n",
       "    <tr>\n",
       "      <th>5</th>\n",
       "      <td>Jon Arryn</td>\n",
       "      <td>House Arryn</td>\n",
       "      <td>1</td>\n",
       "      <td>1</td>\n",
       "      <td>King's Landing</td>\n",
       "      <td>Lysa Arryn</td>\n",
       "      <td>House Arryn</td>\n",
       "      <td>Poison</td>\n",
       "      <td>6</td>\n",
       "    </tr>\n",
       "    <tr>\n",
       "      <th>6</th>\n",
       "      <td>Dothraki man</td>\n",
       "      <td>Dothraki</td>\n",
       "      <td>1</td>\n",
       "      <td>1</td>\n",
       "      <td>Pentos</td>\n",
       "      <td>Dothraki man</td>\n",
       "      <td>Dothraki</td>\n",
       "      <td>Arakh</td>\n",
       "      <td>7</td>\n",
       "    </tr>\n",
       "    <tr>\n",
       "      <th>7</th>\n",
       "      <td>Catspaw assassin</td>\n",
       "      <td>NaN</td>\n",
       "      <td>1</td>\n",
       "      <td>2</td>\n",
       "      <td>Winterfell</td>\n",
       "      <td>Summer</td>\n",
       "      <td>House Stark</td>\n",
       "      <td>Teeth</td>\n",
       "      <td>8</td>\n",
       "    </tr>\n",
       "    <tr>\n",
       "      <th>8</th>\n",
       "      <td>Mycah</td>\n",
       "      <td>Smallfolk</td>\n",
       "      <td>1</td>\n",
       "      <td>2</td>\n",
       "      <td>Kingsroad</td>\n",
       "      <td>Sandor \"the Hound\" Clegane</td>\n",
       "      <td>House Lannister</td>\n",
       "      <td>Sword</td>\n",
       "      <td>9</td>\n",
       "    </tr>\n",
       "    <tr>\n",
       "      <th>9</th>\n",
       "      <td>Lady</td>\n",
       "      <td>House Stark</td>\n",
       "      <td>1</td>\n",
       "      <td>2</td>\n",
       "      <td>Kingsroad</td>\n",
       "      <td>Ned Stark</td>\n",
       "      <td>House Stark</td>\n",
       "      <td>Knife</td>\n",
       "      <td>10</td>\n",
       "    </tr>\n",
       "  </tbody>\n",
       "</table>\n",
       "</div>"
      ],
      "text/plain": [
       "               name     allegiance  season  episode         location  \\\n",
       "0      Waymar Royce  Night's Watch       1        1  Beyond the Wall   \n",
       "1             Gared  Night's Watch       1        1  Beyond the Wall   \n",
       "2              Will  Night's Watch       1        1       Winterfell   \n",
       "3              Stag            NaN       1        1       Winterfell   \n",
       "4          Direwolf            NaN       1        1       Winterfell   \n",
       "5         Jon Arryn    House Arryn       1        1   King's Landing   \n",
       "6      Dothraki man       Dothraki       1        1           Pentos   \n",
       "7  Catspaw assassin            NaN       1        2       Winterfell   \n",
       "8             Mycah      Smallfolk       1        2        Kingsroad   \n",
       "9              Lady    House Stark       1        2        Kingsroad   \n",
       "\n",
       "                       killer    killers_house     method  death_no  \n",
       "0                White Walker              NaN  Ice sword         1  \n",
       "1                White Walker              NaN  Ice sword         2  \n",
       "2                   Ned Stark      House Stark      Sword         3  \n",
       "3                    Direwolf              NaN      Teeth         4  \n",
       "4                        Stag              NaN     Antler         5  \n",
       "5                  Lysa Arryn      House Arryn     Poison         6  \n",
       "6                Dothraki man         Dothraki      Arakh         7  \n",
       "7                      Summer      House Stark      Teeth         8  \n",
       "8  Sandor \"the Hound\" Clegane  House Lannister      Sword         9  \n",
       "9                   Ned Stark      House Stark      Knife        10  "
      ]
     },
     "execution_count": 3,
     "metadata": {},
     "output_type": "execute_result"
    }
   ],
   "source": [
    "df = pd.read_csv('data/game_of_thrones_deaths_collecti.csv')\n",
    "df.head(10)"
   ]
  },
  {
   "cell_type": "markdown",
   "metadata": {},
   "source": [
    "Estos datos contienen todos los asesintos que han sucedido en Juego de Tronos en cada temporada.\n",
    "name: Nombre de la victima\n",
    "allegiance: La alianza de la victima\n",
    "season: Temporada\n",
    "episode: Número de episodio\n",
    "location: Lugar del asesinato\n",
    "killer: El asesino\n",
    "killer_house: Casa a la que pertenece el asesino\n",
    "method: Tipo de asesinato\n",
    "death_no: El número de muerte en la serie"
   ]
  },
  {
   "cell_type": "markdown",
   "metadata": {},
   "source": [
    "Necesito saber los datos con NaN\n",
    "Si son datos string, los ponemos como Desconocido\n",
    "Si son datos numéricos los ponemos como 0"
   ]
  },
  {
   "cell_type": "code",
   "execution_count": 5,
   "metadata": {},
   "outputs": [
    {
     "name": "stdout",
     "output_type": "stream",
     "text": [
      "<class 'pandas.core.frame.DataFrame'>\n",
      "RangeIndex: 2224 entries, 0 to 2223\n",
      "Data columns (total 9 columns):\n",
      " #   Column         Non-Null Count  Dtype \n",
      "---  ------         --------------  ----- \n",
      " 0   name           2224 non-null   object\n",
      " 1   allegiance     1792 non-null   object\n",
      " 2   season         2224 non-null   int64 \n",
      " 3   episode        2224 non-null   int64 \n",
      " 4   location       2224 non-null   object\n",
      " 5   killer         2214 non-null   object\n",
      " 6   killers_house  2194 non-null   object\n",
      " 7   method         2224 non-null   object\n",
      " 8   death_no       2224 non-null   int64 \n",
      "dtypes: int64(3), object(6)\n",
      "memory usage: 156.5+ KB\n"
     ]
    }
   ],
   "source": [
    "df.info()"
   ]
  },
  {
   "cell_type": "code",
   "execution_count": 7,
   "metadata": {},
   "outputs": [
    {
     "data": {
      "text/plain": [
       "name             2224\n",
       "allegiance       2224\n",
       "season           2224\n",
       "episode          2224\n",
       "location         2224\n",
       "killer           2224\n",
       "killers_house    2224\n",
       "method           2224\n",
       "death_no         2224\n",
       "dtype: int64"
      ]
     },
     "execution_count": 7,
     "metadata": {},
     "output_type": "execute_result"
    }
   ],
   "source": [
    "df = df.fillna({\"allegiance\": 'Desconocido', \"killers_house\": \"Desconocido\", \"killer\": \"Desconocido\"})\n",
    "df.count()"
   ]
  },
  {
   "cell_type": "markdown",
   "metadata": {},
   "source": [
    "Me gustaría saber el número de muertes totales y también saber el número de muertes que hubo en la primera temporada."
   ]
  },
  {
   "cell_type": "code",
   "execution_count": 8,
   "metadata": {},
   "outputs": [
    {
     "name": "stdout",
     "output_type": "stream",
     "text": [
      "Total de muertes 2224\n",
      "Muertes en la primera temporada: 58\n"
     ]
    }
   ],
   "source": [
    "total_muertes = df.shape[0]\n",
    "muertes_temp1 = df[ df.season == 1].shape[0]\n",
    "print(f\"Total de muertes {total_muertes}\")\n",
    "print(f\"Muertes en la primera temporada: {muertes_temp1}\")"
   ]
  },
  {
   "cell_type": "markdown",
   "metadata": {},
   "source": [
    "También quiero saber el impacto de muertes (porcentaje) de la temporada 1 respecto al conjunto de asesinatos."
   ]
  },
  {
   "cell_type": "code",
   "execution_count": 14,
   "metadata": {},
   "outputs": [
    {
     "name": "stdout",
     "output_type": "stream",
     "text": [
      "El impacto de la temporada 1 fue de : 2.61\n"
     ]
    }
   ],
   "source": [
    "impacto_temp1 = round((muertes_temp1/total_muertes) * 100, 2)\n",
    "print(f\"El impacto de la temporada 1 fue de : {impacto_temp1}\")"
   ]
  },
  {
   "cell_type": "markdown",
   "metadata": {},
   "source": [
    "Necesito recuperar los datos de muertes también de la temporada 2 y 3, el impacto en la serie (porcentaje) y realizar un diccionario y ponerlo en un DataFrame nuevo"
   ]
  },
  {
   "cell_type": "code",
   "execution_count": 16,
   "metadata": {},
   "outputs": [
    {
     "name": "stdout",
     "output_type": "stream",
     "text": [
      "Impacto temporada 2: 5.85\n",
      "Impacto temporada 3: 3.87\n"
     ]
    },
    {
     "data": {
      "text/html": [
       "<div>\n",
       "<style scoped>\n",
       "    .dataframe tbody tr th:only-of-type {\n",
       "        vertical-align: middle;\n",
       "    }\n",
       "\n",
       "    .dataframe tbody tr th {\n",
       "        vertical-align: top;\n",
       "    }\n",
       "\n",
       "    .dataframe thead th {\n",
       "        text-align: right;\n",
       "    }\n",
       "</style>\n",
       "<table border=\"1\" class=\"dataframe\">\n",
       "  <thead>\n",
       "    <tr style=\"text-align: right;\">\n",
       "      <th></th>\n",
       "      <th>Temporada</th>\n",
       "      <th>Impacto serie</th>\n",
       "    </tr>\n",
       "  </thead>\n",
       "  <tbody>\n",
       "    <tr>\n",
       "      <th>0</th>\n",
       "      <td>Temporada 1</td>\n",
       "      <td>2.61</td>\n",
       "    </tr>\n",
       "    <tr>\n",
       "      <th>1</th>\n",
       "      <td>Temporada 2</td>\n",
       "      <td>5.85</td>\n",
       "    </tr>\n",
       "    <tr>\n",
       "      <th>2</th>\n",
       "      <td>Temporada 3</td>\n",
       "      <td>3.87</td>\n",
       "    </tr>\n",
       "  </tbody>\n",
       "</table>\n",
       "</div>"
      ],
      "text/plain": [
       "     Temporada  Impacto serie\n",
       "0  Temporada 1           2.61\n",
       "1  Temporada 2           5.85\n",
       "2  Temporada 3           3.87"
      ]
     },
     "execution_count": 16,
     "metadata": {},
     "output_type": "execute_result"
    }
   ],
   "source": [
    "muertes_temp2 = df.query(\"season == 2\").shape[0]\n",
    "muertes_temp3 = len(df.query(\"season == 3\"))\n",
    "impacto_temp2 = round(muertes_temp2/total_muertes * 100, 2)\n",
    "impacto_temp3 = round(muertes_temp3/total_muertes * 100, 2)\n",
    "print(f\"Impacto temporada 2: {impacto_temp2}\")\n",
    "print(f\"Impacto temporada 3: {impacto_temp3}\")\n",
    "data = {'Temporada': ['Temporada 1', 'Temporada 2', 'Temporada 3']\n",
    "        , 'Impacto serie': [impacto_temp1, impacto_temp2, impacto_temp3]}\n",
    "df_impactos = pd.DataFrame.from_dict(data)\n",
    "df_impactos"
   ]
  },
  {
   "cell_type": "markdown",
   "metadata": {},
   "source": [
    "Realizar un gráfico para visualizar las temporadas"
   ]
  },
  {
   "cell_type": "code",
   "execution_count": null,
   "metadata": {},
   "outputs": [
    {
     "data": {
      "text/plain": [
       "<Axes: xlabel='Temporada'>"
      ]
     },
     "execution_count": 18,
     "metadata": {},
     "output_type": "execute_result"
    },
    {
     "data": {
      "image/png": "[encoded data removed]",
      "text/plain": [
       "<Figure size 640x480 with 1 Axes>"
      ]
     },
     "metadata": {},
     "output_type": "display_data"
    }
   ],
   "source": [
    "df_impactos.plot(kind=\"bar\", x=\"Temporada\", y=\"Impacto serie\")"
   ]
  },
  {
   "cell_type": "markdown",
   "metadata": {},
   "source": [
    "No me creo estos datos, Python no es tan listo\n",
    "Me gustaría visualizar el número de muertes por temporada\n",
    "Agrupar el número de muertes por temporada"
   ]
  },
  {
   "cell_type": "code",
   "execution_count": 35,
   "metadata": {},
   "outputs": [
    {
     "data": {
      "text/html": [
       "<div>\n",
       "<style scoped>\n",
       "    .dataframe tbody tr th:only-of-type {\n",
       "        vertical-align: middle;\n",
       "    }\n",
       "\n",
       "    .dataframe tbody tr th {\n",
       "        vertical-align: top;\n",
       "    }\n",
       "\n",
       "    .dataframe thead th {\n",
       "        text-align: right;\n",
       "    }\n",
       "</style>\n",
       "<table border=\"1\" class=\"dataframe\">\n",
       "  <thead>\n",
       "    <tr style=\"text-align: right;\">\n",
       "      <th></th>\n",
       "      <th>count</th>\n",
       "      <th>unique</th>\n",
       "      <th>top</th>\n",
       "      <th>freq</th>\n",
       "    </tr>\n",
       "    <tr>\n",
       "      <th>season</th>\n",
       "      <th></th>\n",
       "      <th></th>\n",
       "      <th></th>\n",
       "      <th></th>\n",
       "    </tr>\n",
       "  </thead>\n",
       "  <tbody>\n",
       "    <tr>\n",
       "      <th>1</th>\n",
       "      <td>58</td>\n",
       "      <td>37</td>\n",
       "      <td>Stark soldier</td>\n",
       "      <td>12</td>\n",
       "    </tr>\n",
       "    <tr>\n",
       "      <th>2</th>\n",
       "      <td>130</td>\n",
       "      <td>40</td>\n",
       "      <td>Baratheon of Dragonstone soldier</td>\n",
       "      <td>55</td>\n",
       "    </tr>\n",
       "    <tr>\n",
       "      <th>3</th>\n",
       "      <td>86</td>\n",
       "      <td>30</td>\n",
       "      <td>Stark soldier</td>\n",
       "      <td>27</td>\n",
       "    </tr>\n",
       "    <tr>\n",
       "      <th>4</th>\n",
       "      <td>170</td>\n",
       "      <td>43</td>\n",
       "      <td>Wildling</td>\n",
       "      <td>61</td>\n",
       "    </tr>\n",
       "    <tr>\n",
       "      <th>5</th>\n",
       "      <td>158</td>\n",
       "      <td>36</td>\n",
       "      <td>Sons of the Harpy agent</td>\n",
       "      <td>67</td>\n",
       "    </tr>\n",
       "    <tr>\n",
       "      <th>6</th>\n",
       "      <td>396</td>\n",
       "      <td>53</td>\n",
       "      <td>King's Landing Noble</td>\n",
       "      <td>138</td>\n",
       "    </tr>\n",
       "    <tr>\n",
       "      <th>7</th>\n",
       "      <td>334</td>\n",
       "      <td>20</td>\n",
       "      <td>Lannister soldier</td>\n",
       "      <td>204</td>\n",
       "    </tr>\n",
       "    <tr>\n",
       "      <th>8</th>\n",
       "      <td>892</td>\n",
       "      <td>29</td>\n",
       "      <td>Golden Company soldier</td>\n",
       "      <td>374</td>\n",
       "    </tr>\n",
       "  </tbody>\n",
       "</table>\n",
       "</div>"
      ],
      "text/plain": [
       "       count unique                               top freq\n",
       "season                                                    \n",
       "1         58     37                     Stark soldier   12\n",
       "2        130     40  Baratheon of Dragonstone soldier   55\n",
       "3         86     30                     Stark soldier   27\n",
       "4        170     43                          Wildling   61\n",
       "5        158     36           Sons of the Harpy agent   67\n",
       "6        396     53              King's Landing Noble  138\n",
       "7        334     20                 Lannister soldier  204\n",
       "8        892     29            Golden Company soldier  374"
      ]
     },
     "execution_count": 35,
     "metadata": {},
     "output_type": "execute_result"
    }
   ],
   "source": [
    "grupo_season = df.groupby('season')['name']\n",
    "grupo_season.describe()"
   ]
  },
  {
   "cell_type": "markdown",
   "metadata": {},
   "source": [
    "Agrupamos un Dataframe por asesino"
   ]
  },
  {
   "cell_type": "code",
   "execution_count": 26,
   "metadata": {},
   "outputs": [
    {
     "data": {
      "text/html": [
       "<div>\n",
       "<style scoped>\n",
       "    .dataframe tbody tr th:only-of-type {\n",
       "        vertical-align: middle;\n",
       "    }\n",
       "\n",
       "    .dataframe tbody tr th {\n",
       "        vertical-align: top;\n",
       "    }\n",
       "\n",
       "    .dataframe thead th {\n",
       "        text-align: right;\n",
       "    }\n",
       "</style>\n",
       "<table border=\"1\" class=\"dataframe\">\n",
       "  <thead>\n",
       "    <tr style=\"text-align: right;\">\n",
       "      <th></th>\n",
       "      <th>name</th>\n",
       "      <th>allegiance</th>\n",
       "      <th>season</th>\n",
       "      <th>episode</th>\n",
       "      <th>location</th>\n",
       "      <th>killers_house</th>\n",
       "      <th>method</th>\n",
       "      <th>death_no</th>\n",
       "    </tr>\n",
       "    <tr>\n",
       "      <th>killer</th>\n",
       "      <th></th>\n",
       "      <th></th>\n",
       "      <th></th>\n",
       "      <th></th>\n",
       "      <th></th>\n",
       "      <th></th>\n",
       "      <th></th>\n",
       "      <th></th>\n",
       "    </tr>\n",
       "  </thead>\n",
       "  <tbody>\n",
       "    <tr>\n",
       "      <th>Accident</th>\n",
       "      <td>Baratheon of Dragonstone soldier</td>\n",
       "      <td>House Baratheon of Dragonstone</td>\n",
       "      <td>2</td>\n",
       "      <td>9</td>\n",
       "      <td>King's Landing</td>\n",
       "      <td>Unknown</td>\n",
       "      <td>Blunt object</td>\n",
       "      <td>120</td>\n",
       "    </tr>\n",
       "    <tr>\n",
       "      <th>Aemon Targaryen</th>\n",
       "      <td>Aemon Targaryen</td>\n",
       "      <td>Night's Watch</td>\n",
       "      <td>5</td>\n",
       "      <td>7</td>\n",
       "      <td>Castle Black</td>\n",
       "      <td>Night's Watch</td>\n",
       "      <td>Old Age</td>\n",
       "      <td>511</td>\n",
       "    </tr>\n",
       "    <tr>\n",
       "      <th>Alliser Thorne</th>\n",
       "      <td>WildlingThenn raiderWildling</td>\n",
       "      <td>Free FolkFree FolkFree Folk</td>\n",
       "      <td>12</td>\n",
       "      <td>27</td>\n",
       "      <td>Castle BlackCastle BlackCastle Black</td>\n",
       "      <td>Night's WatchNight's WatchNight's Watch</td>\n",
       "      <td>SwordSwordSword</td>\n",
       "      <td>1089</td>\n",
       "    </tr>\n",
       "    <tr>\n",
       "      <th>Amory Lorch</th>\n",
       "      <td>Yoren</td>\n",
       "      <td>Night's Watch</td>\n",
       "      <td>2</td>\n",
       "      <td>3</td>\n",
       "      <td>Riverlands</td>\n",
       "      <td>House Lannister</td>\n",
       "      <td>Sword</td>\n",
       "      <td>72</td>\n",
       "    </tr>\n",
       "    <tr>\n",
       "      <th>Arthur Dayne</th>\n",
       "      <td>Stark soldierStark soldierStark soldier</td>\n",
       "      <td>House StarkHouse StarkHouse Stark</td>\n",
       "      <td>18</td>\n",
       "      <td>9</td>\n",
       "      <td>DorneDorneDorne</td>\n",
       "      <td>House TargaryenHouse TargaryenHouse Targaryen</td>\n",
       "      <td>SwordSwordSword</td>\n",
       "      <td>1863</td>\n",
       "    </tr>\n",
       "    <tr>\n",
       "      <th>...</th>\n",
       "      <td>...</td>\n",
       "      <td>...</td>\n",
       "      <td>...</td>\n",
       "      <td>...</td>\n",
       "      <td>...</td>\n",
       "      <td>...</td>\n",
       "      <td>...</td>\n",
       "      <td>...</td>\n",
       "    </tr>\n",
       "    <tr>\n",
       "      <th>Wildling giant</th>\n",
       "      <td>Night's Watch brotherGrenn</td>\n",
       "      <td>Night's WatchNight's Watch</td>\n",
       "      <td>8</td>\n",
       "      <td>18</td>\n",
       "      <td>The WallCastle Black</td>\n",
       "      <td>Free FolkFree Folk</td>\n",
       "      <td>Giant arrowUnknown</td>\n",
       "      <td>760</td>\n",
       "    </tr>\n",
       "    <tr>\n",
       "      <th>Wun Wun</th>\n",
       "      <td>Night's Watch brotherBolton soldierBolton soldier</td>\n",
       "      <td>Night's WatchHouse BoltonHouse Bolton</td>\n",
       "      <td>18</td>\n",
       "      <td>20</td>\n",
       "      <td>Castle BlackWinterfellWinterfell</td>\n",
       "      <td>Free FolkFree FolkFree Folk</td>\n",
       "      <td>HandsHandsHands</td>\n",
       "      <td>2124</td>\n",
       "    </tr>\n",
       "    <tr>\n",
       "      <th>Yara Greyjoy</th>\n",
       "      <td>Bolton soldierBolton soldierBolton soldierGrey...</td>\n",
       "      <td>House BoltonHouse BoltonHouse BoltonHouse Grey...</td>\n",
       "      <td>68</td>\n",
       "      <td>34</td>\n",
       "      <td>DreadfortDreadfortDreadfortThe Narrow SeaThe N...</td>\n",
       "      <td>House GreyjoyHouse GreyjoyHouse GreyjoyHouse G...</td>\n",
       "      <td>AxeAxeAxeSwordSwordSwordSwordSwordSwordSwordSword</td>\n",
       "      <td>9482</td>\n",
       "    </tr>\n",
       "    <tr>\n",
       "      <th>Ygritte</th>\n",
       "      <td>Horse breederGuymonPeasantPeasantPeasantPeasan...</td>\n",
       "      <td>Night's WatchSmallfolkSmallfolkSmallfolkSmallf...</td>\n",
       "      <td>55</td>\n",
       "      <td>110</td>\n",
       "      <td>The GiftThe GiftThe GiftMole's TownMole's Town...</td>\n",
       "      <td>Free FolkFree FolkFree FolkFree FolkFree FolkF...</td>\n",
       "      <td>ArrowArrowSwordSpearSpearSpearKnifeFlaming arr...</td>\n",
       "      <td>4662</td>\n",
       "    </tr>\n",
       "    <tr>\n",
       "      <th>Yoren</th>\n",
       "      <td>Lannister soldierLannister soldierLannister so...</td>\n",
       "      <td>House LannisterHouse LannisterHouse LannisterH...</td>\n",
       "      <td>10</td>\n",
       "      <td>15</td>\n",
       "      <td>RiverlandsRiverlandsRiverlandsRiverlandsRiverl...</td>\n",
       "      <td>Night's WatchNight's WatchNight's WatchNight's...</td>\n",
       "      <td>SwordSwordSwordSwordSword</td>\n",
       "      <td>345</td>\n",
       "    </tr>\n",
       "  </tbody>\n",
       "</table>\n",
       "<p>129 rows × 8 columns</p>\n",
       "</div>"
      ],
      "text/plain": [
       "                                                              name  \\\n",
       "killer                                                               \n",
       "Accident                          Baratheon of Dragonstone soldier   \n",
       "Aemon Targaryen                                    Aemon Targaryen   \n",
       "Alliser Thorne                        WildlingThenn raiderWildling   \n",
       "Amory Lorch                                                  Yoren   \n",
       "Arthur Dayne               Stark soldierStark soldierStark soldier   \n",
       "...                                                            ...   \n",
       "Wildling giant                          Night's Watch brotherGrenn   \n",
       "Wun Wun          Night's Watch brotherBolton soldierBolton soldier   \n",
       "Yara Greyjoy     Bolton soldierBolton soldierBolton soldierGrey...   \n",
       "Ygritte          Horse breederGuymonPeasantPeasantPeasantPeasan...   \n",
       "Yoren            Lannister soldierLannister soldierLannister so...   \n",
       "\n",
       "                                                        allegiance  season  \\\n",
       "killer                                                                       \n",
       "Accident                            House Baratheon of Dragonstone       2   \n",
       "Aemon Targaryen                                      Night's Watch       5   \n",
       "Alliser Thorne                         Free FolkFree FolkFree Folk      12   \n",
       "Amory Lorch                                          Night's Watch       2   \n",
       "Arthur Dayne                     House StarkHouse StarkHouse Stark      18   \n",
       "...                                                            ...     ...   \n",
       "Wildling giant                          Night's WatchNight's Watch       8   \n",
       "Wun Wun                      Night's WatchHouse BoltonHouse Bolton      18   \n",
       "Yara Greyjoy     House BoltonHouse BoltonHouse BoltonHouse Grey...      68   \n",
       "Ygritte          Night's WatchSmallfolkSmallfolkSmallfolkSmallf...      55   \n",
       "Yoren            House LannisterHouse LannisterHouse LannisterH...      10   \n",
       "\n",
       "                 episode                                           location  \\\n",
       "killer                                                                        \n",
       "Accident               9                                     King's Landing   \n",
       "Aemon Targaryen        7                                       Castle Black   \n",
       "Alliser Thorne        27               Castle BlackCastle BlackCastle Black   \n",
       "Amory Lorch            3                                         Riverlands   \n",
       "Arthur Dayne           9                                    DorneDorneDorne   \n",
       "...                  ...                                                ...   \n",
       "Wildling giant        18                               The WallCastle Black   \n",
       "Wun Wun               20                   Castle BlackWinterfellWinterfell   \n",
       "Yara Greyjoy          34  DreadfortDreadfortDreadfortThe Narrow SeaThe N...   \n",
       "Ygritte              110  The GiftThe GiftThe GiftMole's TownMole's Town...   \n",
       "Yoren                 15  RiverlandsRiverlandsRiverlandsRiverlandsRiverl...   \n",
       "\n",
       "                                                     killers_house  \\\n",
       "killer                                                               \n",
       "Accident                                                   Unknown   \n",
       "Aemon Targaryen                                      Night's Watch   \n",
       "Alliser Thorne             Night's WatchNight's WatchNight's Watch   \n",
       "Amory Lorch                                        House Lannister   \n",
       "Arthur Dayne         House TargaryenHouse TargaryenHouse Targaryen   \n",
       "...                                                            ...   \n",
       "Wildling giant                                  Free FolkFree Folk   \n",
       "Wun Wun                                Free FolkFree FolkFree Folk   \n",
       "Yara Greyjoy     House GreyjoyHouse GreyjoyHouse GreyjoyHouse G...   \n",
       "Ygritte          Free FolkFree FolkFree FolkFree FolkFree FolkF...   \n",
       "Yoren            Night's WatchNight's WatchNight's WatchNight's...   \n",
       "\n",
       "                                                            method  death_no  \n",
       "killer                                                                        \n",
       "Accident                                              Blunt object       120  \n",
       "Aemon Targaryen                                            Old Age       511  \n",
       "Alliser Thorne                                     SwordSwordSword      1089  \n",
       "Amory Lorch                                                  Sword        72  \n",
       "Arthur Dayne                                       SwordSwordSword      1863  \n",
       "...                                                            ...       ...  \n",
       "Wildling giant                                  Giant arrowUnknown       760  \n",
       "Wun Wun                                            HandsHandsHands      2124  \n",
       "Yara Greyjoy     AxeAxeAxeSwordSwordSwordSwordSwordSwordSwordSword      9482  \n",
       "Ygritte          ArrowArrowSwordSpearSpearSpearKnifeFlaming arr...      4662  \n",
       "Yoren                                    SwordSwordSwordSwordSword       345  \n",
       "\n",
       "[129 rows x 8 columns]"
      ]
     },
     "execution_count": 26,
     "metadata": {},
     "output_type": "execute_result"
    }
   ],
   "source": [
    "df_killer = df.groupby('killer').sum()\n",
    "df_killer\n"
   ]
  },
  {
   "cell_type": "markdown",
   "metadata": {},
   "source": [
    "Me gustaría visualizar El asesino y el número de muertes"
   ]
  },
  {
   "cell_type": "code",
   "execution_count": 27,
   "metadata": {},
   "outputs": [
    {
     "data": {
      "text/html": [
       "<div>\n",
       "<style scoped>\n",
       "    .dataframe tbody tr th:only-of-type {\n",
       "        vertical-align: middle;\n",
       "    }\n",
       "\n",
       "    .dataframe tbody tr th {\n",
       "        vertical-align: top;\n",
       "    }\n",
       "\n",
       "    .dataframe thead th {\n",
       "        text-align: right;\n",
       "    }\n",
       "</style>\n",
       "<table border=\"1\" class=\"dataframe\">\n",
       "  <thead>\n",
       "    <tr style=\"text-align: right;\">\n",
       "      <th></th>\n",
       "      <th>count</th>\n",
       "    </tr>\n",
       "    <tr>\n",
       "      <th>killer</th>\n",
       "      <th></th>\n",
       "    </tr>\n",
       "  </thead>\n",
       "  <tbody>\n",
       "    <tr>\n",
       "      <th>Accident</th>\n",
       "      <td>1</td>\n",
       "    </tr>\n",
       "    <tr>\n",
       "      <th>Aemon Targaryen</th>\n",
       "      <td>1</td>\n",
       "    </tr>\n",
       "    <tr>\n",
       "      <th>Alliser Thorne</th>\n",
       "      <td>3</td>\n",
       "    </tr>\n",
       "    <tr>\n",
       "      <th>Amory Lorch</th>\n",
       "      <td>1</td>\n",
       "    </tr>\n",
       "    <tr>\n",
       "      <th>Arthur Dayne</th>\n",
       "      <td>3</td>\n",
       "    </tr>\n",
       "    <tr>\n",
       "      <th>...</th>\n",
       "      <td>...</td>\n",
       "    </tr>\n",
       "    <tr>\n",
       "      <th>Wildling giant</th>\n",
       "      <td>2</td>\n",
       "    </tr>\n",
       "    <tr>\n",
       "      <th>Wun Wun</th>\n",
       "      <td>3</td>\n",
       "    </tr>\n",
       "    <tr>\n",
       "      <th>Yara Greyjoy</th>\n",
       "      <td>11</td>\n",
       "    </tr>\n",
       "    <tr>\n",
       "      <th>Ygritte</th>\n",
       "      <td>14</td>\n",
       "    </tr>\n",
       "    <tr>\n",
       "      <th>Yoren</th>\n",
       "      <td>5</td>\n",
       "    </tr>\n",
       "  </tbody>\n",
       "</table>\n",
       "<p>129 rows × 1 columns</p>\n",
       "</div>"
      ],
      "text/plain": [
       "                 count\n",
       "killer                \n",
       "Accident             1\n",
       "Aemon Targaryen      1\n",
       "Alliser Thorne       3\n",
       "Amory Lorch          1\n",
       "Arthur Dayne         3\n",
       "...                ...\n",
       "Wildling giant       2\n",
       "Wun Wun              3\n",
       "Yara Greyjoy        11\n",
       "Ygritte             14\n",
       "Yoren                5\n",
       "\n",
       "[129 rows x 1 columns]"
      ]
     },
     "execution_count": 27,
     "metadata": {},
     "output_type": "execute_result"
    }
   ],
   "source": [
    "df_killer = df.groupby('killer')['death_no'].agg(['count'])\n",
    "df_killer"
   ]
  },
  {
   "cell_type": "markdown",
   "metadata": {},
   "source": [
    "Mostrar un gráfico Pie con los 10 primeros asesinos "
   ]
  },
  {
   "cell_type": "code",
   "execution_count": 33,
   "metadata": {},
   "outputs": [
    {
     "data": {
      "text/plain": [
       "<Axes: ylabel='count'>"
      ]
     },
     "execution_count": 33,
     "metadata": {},
     "output_type": "execute_result"
    },
    {
     "data": {
      "image/png": "[encoded data removed]",
      "text/plain": [
       "<Figure size 640x480 with 1 Axes>"
      ]
     },
     "metadata": {},
     "output_type": "display_data"
    }
   ],
   "source": [
    "df_primeros = df_killer.head(10)\n",
    "df_primeros.groupby('killer').sum().plot(kind='pie', y='count')"
   ]
  },
  {
   "cell_type": "markdown",
   "metadata": {},
   "source": [
    "1) Queremos saber (print) el número de muertes de Daenerys Targaryen\n",
    "2) Mostrar las muertes de Daenerys Targaryen en un DataFrame\n",
    "3) Visualizar las muertes de Daenerys Targaryen por temporada\n",
    "4) Mostrar la evolución de nuestra asesina por temporada en un gráfico de barras"
   ]
  },
  {
   "cell_type": "code",
   "execution_count": 37,
   "metadata": {},
   "outputs": [
    {
     "name": "stdout",
     "output_type": "stream",
     "text": [
      "Total de muertes 2224\n",
      "Muertes de Daenerys Targaryen: 1008\n"
     ]
    }
   ],
   "source": [
    "total_muertes = df.shape[0]\n",
    "muertes_dae = df[ df.killer == 'Daenerys Targaryen'].shape[0]\n",
    "print(f\"Total de muertes {total_muertes}\")\n",
    "print(f\"Muertes de Daenerys Targaryen: {muertes_dae}\")"
   ]
  }
 ],
 "metadata": {
  "kernelspec": {
   "display_name": ".venv",
   "language": "python",
   "name": "python3"
  },
  "language_info": {
   "codemirror_mode": {
    "name": "ipython",
    "version": 3
   },
   "file_extension": ".py",
   "mimetype": "text/x-python",
   "name": "python",
   "nbconvert_exporter": "python",
   "pygments_lexer": "ipython3",
   "version": "3.13.2"
  }
 },
 "nbformat": 4,
 "nbformat_minor": 2
}
